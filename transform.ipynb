{
 "cells": [
  {
   "cell_type": "code",
   "execution_count": 1,
   "metadata": {},
   "outputs": [],
   "source": [
    "import json"
   ]
  },
  {
   "cell_type": "markdown",
   "metadata": {},
   "source": []
  },
  {
   "cell_type": "code",
   "execution_count": 2,
   "metadata": {},
   "outputs": [],
   "source": [
    "#import json\n",
    "\n",
    "with open('berlin.json') as f:\n",
    "   data = json.load(f)\n",
    "\n"
   ]
  },
  {
   "cell_type": "code",
   "execution_count": 3,
   "metadata": {},
   "outputs": [
    {
     "data": {
      "text/plain": [
       "{'aqi': 59,\n",
       " 'idx': 10039,\n",
       " 'attributions': [{'url': 'http://www.stadtentwicklung.berlin.de/umwelt/luftqualitaet/',\n",
       "   'name': 'Berlin Air Quality - (Luftqualität in Berlin)',\n",
       "   'logo': 'Germany-Berlin.png'},\n",
       "  {'url': 'http://www.eea.europa.eu/themes/air/',\n",
       "   'name': 'European Environment Agency',\n",
       "   'logo': 'Europe-EEA.png'},\n",
       "  {'url': 'https://waqi.info/', 'name': 'World Air Quality Index Project'}],\n",
       " 'city': {'geo': [52.513606, 13.418833],\n",
       "  'name': 'Mitte, Brückenstraße, Berlin, Germany',\n",
       "  'url': 'https://aqicn.org/city/germany/berlin/mitte--bruckenstrasse'},\n",
       " 'dominentpol': 'pm25',\n",
       " 'iaqi': {'h': {'v': 69},\n",
       "  'no2': {'v': 3.7},\n",
       "  'p': {'v': 1024.2},\n",
       "  'pm10': {'v': 17},\n",
       "  'pm25': {'v': 59},\n",
       "  't': {'v': 6.1},\n",
       "  'w': {'v': 7},\n",
       "  'wg': {'v': 10}},\n",
       " 'time': {'s': '2022-03-05 13:00:00',\n",
       "  'tz': '+01:00',\n",
       "  'v': 1646485200,\n",
       "  'iso': '2022-03-05T13:00:00+01:00'},\n",
       " 'forecast': {'daily': {'o3': [{'avg': 14,\n",
       "     'day': '2022-03-03',\n",
       "     'max': 31,\n",
       "     'min': 1},\n",
       "    {'avg': 16, 'day': '2022-03-04', 'max': 28, 'min': 8},\n",
       "    {'avg': 14, 'day': '2022-03-05', 'max': 29, 'min': 7},\n",
       "    {'avg': 18, 'day': '2022-03-06', 'max': 34, 'min': 4},\n",
       "    {'avg': 19, 'day': '2022-03-07', 'max': 34, 'min': 10},\n",
       "    {'avg': 20, 'day': '2022-03-08', 'max': 35, 'min': 7},\n",
       "    {'avg': 23, 'day': '2022-03-09', 'max': 23, 'min': 22}],\n",
       "   'pm10': [{'avg': 23, 'day': '2022-03-03', 'max': 44, 'min': 10},\n",
       "    {'avg': 13, 'day': '2022-03-04', 'max': 18, 'min': 9},\n",
       "    {'avg': 17, 'day': '2022-03-05', 'max': 20, 'min': 9},\n",
       "    {'avg': 15, 'day': '2022-03-06', 'max': 20, 'min': 8},\n",
       "    {'avg': 14, 'day': '2022-03-07', 'max': 20, 'min': 6},\n",
       "    {'avg': 15, 'day': '2022-03-08', 'max': 19, 'min': 7},\n",
       "    {'avg': 12, 'day': '2022-03-09', 'max': 12, 'min': 12}],\n",
       "   'pm25': [{'avg': 64, 'day': '2022-03-03', 'max': 107, 'min': 33},\n",
       "    {'avg': 37, 'day': '2022-03-04', 'max': 53, 'min': 25},\n",
       "    {'avg': 52, 'day': '2022-03-05', 'max': 60, 'min': 30},\n",
       "    {'avg': 49, 'day': '2022-03-06', 'max': 62, 'min': 28},\n",
       "    {'avg': 45, 'day': '2022-03-07', 'max': 61, 'min': 17},\n",
       "    {'avg': 46, 'day': '2022-03-08', 'max': 57, 'min': 23},\n",
       "    {'avg': 37, 'day': '2022-03-09', 'max': 37, 'min': 36}],\n",
       "   'uvi': [{'avg': 0, 'day': '2022-03-03', 'max': 2, 'min': 0},\n",
       "    {'avg': 0, 'day': '2022-03-04', 'max': 1, 'min': 0},\n",
       "    {'avg': 0, 'day': '2022-03-05', 'max': 1, 'min': 0},\n",
       "    {'avg': 0, 'day': '2022-03-06', 'max': 1, 'min': 0},\n",
       "    {'avg': 1, 'day': '2022-03-07', 'max': 2, 'min': 0},\n",
       "    {'avg': 0, 'day': '2022-03-08', 'max': 2, 'min': 0},\n",
       "    {'avg': 1, 'day': '2022-03-09', 'max': 2, 'min': 0},\n",
       "    {'avg': 0, 'day': '2022-03-10', 'max': 0, 'min': 0}]}},\n",
       " 'debug': {'sync': '2022-03-05T22:16:24+09:00'}}"
      ]
     },
     "execution_count": 3,
     "metadata": {},
     "output_type": "execute_result"
    }
   ],
   "source": [
    "data"
   ]
  },
  {
   "cell_type": "code",
   "execution_count": 4,
   "metadata": {},
   "outputs": [
    {
     "name": "stdout",
     "output_type": "stream",
     "text": [
      "59\n",
      "10039\n",
      "Mitte, Brückenstraße, Berlin, Germany\n",
      "[52.513606, 13.418833]\n",
      "69\n",
      "3.7\n",
      "1024.2\n",
      "59\n",
      "6.1\n",
      "7\n",
      "10\n",
      "2022-03-05 13:00:00\n",
      "+01:00\n",
      "1646485200\n",
      "2022-03-05T13:00:00+01:00\n"
     ]
    }
   ],
   "source": [
    "print(data['aqi'])\n",
    "print(data['idx'])\n",
    "print(data['city']['name'])\n",
    "print(data['city']['geo'])\n",
    "print(data['iaqi']['h']['v'])\n",
    "print(data['iaqi']['no2']['v'])\n",
    "print(data['iaqi']['p']['v'])\n",
    "print(data['iaqi']['pm25']['v'])\n",
    "#print(data['iaqi'])\n",
    "print(data['iaqi']['t']['v'])\n",
    "print(data['iaqi']['w']['v'])\n",
    "print(data['iaqi']['wg']['v'])\n",
    "print(data['time']['s'])\n",
    "print(data['time']['tz'])\n",
    "print(data['time']['v'])\n",
    "print(data['time']['iso'])"
   ]
  },
  {
   "cell_type": "code",
   "execution_count": 8,
   "metadata": {},
   "outputs": [],
   "source": [
    "#new"
   ]
  },
  {
   "cell_type": "code",
   "execution_count": 5,
   "metadata": {},
   "outputs": [
    {
     "data": {
      "text/plain": [
       "10039"
      ]
     },
     "execution_count": 5,
     "metadata": {},
     "output_type": "execute_result"
    }
   ],
   "source": [
    "data['idx']"
   ]
  },
  {
   "cell_type": "code",
   "execution_count": 10,
   "metadata": {},
   "outputs": [
    {
     "name": "stdout",
     "output_type": "stream",
     "text": [
      "aqi\n",
      "59\n",
      "idx\n",
      "10039\n",
      "attributions\n",
      "[{'url': 'http://www.stadtentwicklung.berlin.de/umwelt/luftqualitaet/', 'name': 'Berlin Air Quality - (Luftqualität in Berlin)', 'logo': 'Germany-Berlin.png'}, {'url': 'http://www.eea.europa.eu/themes/air/', 'name': 'European Environment Agency', 'logo': 'Europe-EEA.png'}, {'url': 'https://waqi.info/', 'name': 'World Air Quality Index Project'}]\n",
      "city\n",
      "{'geo': [52.513606, 13.418833], 'name': 'Mitte, Brückenstraße, Berlin, Germany', 'url': 'https://aqicn.org/city/germany/berlin/mitte--bruckenstrasse'}\n",
      "dominentpol\n",
      "pm25\n",
      "iaqi\n",
      "{'h': {'v': 69}, 'no2': {'v': 3.7}, 'p': {'v': 1024.2}, 'pm10': {'v': 17}, 'pm25': {'v': 59}, 't': {'v': 6.1}, 'w': {'v': 7}, 'wg': {'v': 10}}\n",
      "time\n",
      "{'s': '2022-03-05 13:00:00', 'tz': '+01:00', 'v': 1646485200, 'iso': '2022-03-05T13:00:00+01:00'}\n",
      "forecast\n",
      "{'daily': {'o3': [{'avg': 14, 'day': '2022-03-03', 'max': 31, 'min': 1}, {'avg': 16, 'day': '2022-03-04', 'max': 28, 'min': 8}, {'avg': 14, 'day': '2022-03-05', 'max': 29, 'min': 7}, {'avg': 18, 'day': '2022-03-06', 'max': 34, 'min': 4}, {'avg': 19, 'day': '2022-03-07', 'max': 34, 'min': 10}, {'avg': 20, 'day': '2022-03-08', 'max': 35, 'min': 7}, {'avg': 23, 'day': '2022-03-09', 'max': 23, 'min': 22}], 'pm10': [{'avg': 23, 'day': '2022-03-03', 'max': 44, 'min': 10}, {'avg': 13, 'day': '2022-03-04', 'max': 18, 'min': 9}, {'avg': 17, 'day': '2022-03-05', 'max': 20, 'min': 9}, {'avg': 15, 'day': '2022-03-06', 'max': 20, 'min': 8}, {'avg': 14, 'day': '2022-03-07', 'max': 20, 'min': 6}, {'avg': 15, 'day': '2022-03-08', 'max': 19, 'min': 7}, {'avg': 12, 'day': '2022-03-09', 'max': 12, 'min': 12}], 'pm25': [{'avg': 64, 'day': '2022-03-03', 'max': 107, 'min': 33}, {'avg': 37, 'day': '2022-03-04', 'max': 53, 'min': 25}, {'avg': 52, 'day': '2022-03-05', 'max': 60, 'min': 30}, {'avg': 49, 'day': '2022-03-06', 'max': 62, 'min': 28}, {'avg': 45, 'day': '2022-03-07', 'max': 61, 'min': 17}, {'avg': 46, 'day': '2022-03-08', 'max': 57, 'min': 23}, {'avg': 37, 'day': '2022-03-09', 'max': 37, 'min': 36}], 'uvi': [{'avg': 0, 'day': '2022-03-03', 'max': 2, 'min': 0}, {'avg': 0, 'day': '2022-03-04', 'max': 1, 'min': 0}, {'avg': 0, 'day': '2022-03-05', 'max': 1, 'min': 0}, {'avg': 0, 'day': '2022-03-06', 'max': 1, 'min': 0}, {'avg': 1, 'day': '2022-03-07', 'max': 2, 'min': 0}, {'avg': 0, 'day': '2022-03-08', 'max': 2, 'min': 0}, {'avg': 1, 'day': '2022-03-09', 'max': 2, 'min': 0}, {'avg': 0, 'day': '2022-03-10', 'max': 0, 'min': 0}]}}\n",
      "debug\n",
      "{'sync': '2022-03-05T22:16:24+09:00'}\n"
     ]
    }
   ],
   "source": [
    "for i in data:\n",
    "    print(i)\n",
    "    print(data[i])"
   ]
  }
 ],
 "metadata": {
  "interpreter": {
   "hash": "51ba4647bbf3d5b46d357c36aa801d9f297407b36abf0f707dfbc2fadbc9da02"
  },
  "kernelspec": {
   "display_name": "Python 3.9.5 32-bit ('env': venv)",
   "language": "python",
   "name": "python3"
  },
  "language_info": {
   "codemirror_mode": {
    "name": "ipython",
    "version": 3
   },
   "file_extension": ".py",
   "mimetype": "text/x-python",
   "name": "python",
   "nbconvert_exporter": "python",
   "pygments_lexer": "ipython3",
   "version": "3.9.5"
  },
  "orig_nbformat": 4
 },
 "nbformat": 4,
 "nbformat_minor": 2
}

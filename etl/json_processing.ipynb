{
 "cells": [
  {
   "cell_type": "code",
   "execution_count": 1,
   "metadata": {},
   "outputs": [],
   "source": [
    "import pandas as pd\n",
    "import json"
   ]
  },
  {
   "cell_type": "code",
   "execution_count": 13,
   "metadata": {},
   "outputs": [],
   "source": [
    "\n",
    "with open('transform/01_05_22berlin.json', 'r') as f:\n",
    "  data = json.load(f)"
   ]
  },
  {
   "cell_type": "code",
   "execution_count": 14,
   "metadata": {},
   "outputs": [
    {
     "data": {
      "text/plain": [
       "{'iso': {'0': '2022-03-05T13:00:00+01:00'},\n",
       " 'city_name': {'0': 'Mitte, Brückenstraße, Berlin, Germany'},\n",
       " 'aqi': {'0': 59},\n",
       " 'idx': {'0': 10039},\n",
       " 'h': {'0': 69},\n",
       " 'no2': {'0': 3.7},\n",
       " 'p': {'0': 1024.2},\n",
       " 'pm25': {'0': 59},\n",
       " 't': {'0': 6.1},\n",
       " 'w': {'0': 7},\n",
       " 'wg': {'0': None},\n",
       " 's': {'0': '2022-03-05 13:00:00'},\n",
       " 'tz': {'0': '+01:00'},\n",
       " 'v': {'0': 1646485200}}"
      ]
     },
     "execution_count": 14,
     "metadata": {},
     "output_type": "execute_result"
    }
   ],
   "source": [
    "data"
   ]
  },
  {
   "cell_type": "code",
   "execution_count": 15,
   "metadata": {},
   "outputs": [
    {
     "data": {
      "text/plain": [
       "dict"
      ]
     },
     "execution_count": 15,
     "metadata": {},
     "output_type": "execute_result"
    }
   ],
   "source": [
    "type(data)"
   ]
  },
  {
   "cell_type": "code",
   "execution_count": 20,
   "metadata": {},
   "outputs": [],
   "source": [
    "data1=pd.DataFrame.from_dict(data)"
   ]
  },
  {
   "cell_type": "code",
   "execution_count": 26,
   "metadata": {},
   "outputs": [],
   "source": [
    "with open('transform/18_09_47berlin.json', 'r') as f:\n",
    "  data2 = json.load(f)\n",
    "\n",
    "data2=pd.DataFrame.from_dict(data)  "
   ]
  },
  {
   "cell_type": "code",
   "execution_count": 27,
   "metadata": {},
   "outputs": [
    {
     "data": {
      "text/html": [
       "<div>\n",
       "<style scoped>\n",
       "    .dataframe tbody tr th:only-of-type {\n",
       "        vertical-align: middle;\n",
       "    }\n",
       "\n",
       "    .dataframe tbody tr th {\n",
       "        vertical-align: top;\n",
       "    }\n",
       "\n",
       "    .dataframe thead th {\n",
       "        text-align: right;\n",
       "    }\n",
       "</style>\n",
       "<table border=\"1\" class=\"dataframe\">\n",
       "  <thead>\n",
       "    <tr style=\"text-align: right;\">\n",
       "      <th></th>\n",
       "      <th>iso</th>\n",
       "      <th>city_name</th>\n",
       "      <th>aqi</th>\n",
       "      <th>idx</th>\n",
       "      <th>h</th>\n",
       "      <th>no2</th>\n",
       "      <th>p</th>\n",
       "      <th>pm25</th>\n",
       "      <th>t</th>\n",
       "      <th>w</th>\n",
       "      <th>wg</th>\n",
       "      <th>s</th>\n",
       "      <th>tz</th>\n",
       "      <th>v</th>\n",
       "    </tr>\n",
       "  </thead>\n",
       "  <tbody>\n",
       "    <tr>\n",
       "      <th>0</th>\n",
       "      <td>2022-03-05T13:00:00+01:00</td>\n",
       "      <td>Mitte, Brückenstraße, Berlin, Germany</td>\n",
       "      <td>59</td>\n",
       "      <td>10039</td>\n",
       "      <td>69</td>\n",
       "      <td>3.7</td>\n",
       "      <td>1024.2</td>\n",
       "      <td>59</td>\n",
       "      <td>6.1</td>\n",
       "      <td>7</td>\n",
       "      <td>None</td>\n",
       "      <td>2022-03-05 13:00:00</td>\n",
       "      <td>+01:00</td>\n",
       "      <td>1646485200</td>\n",
       "    </tr>\n",
       "  </tbody>\n",
       "</table>\n",
       "</div>"
      ],
      "text/plain": [
       "                         iso                              city_name  aqi  \\\n",
       "0  2022-03-05T13:00:00+01:00  Mitte, Brückenstraße, Berlin, Germany   59   \n",
       "\n",
       "     idx   h  no2       p  pm25    t  w    wg                    s      tz  \\\n",
       "0  10039  69  3.7  1024.2    59  6.1  7  None  2022-03-05 13:00:00  +01:00   \n",
       "\n",
       "            v  \n",
       "0  1646485200  "
      ]
     },
     "execution_count": 27,
     "metadata": {},
     "output_type": "execute_result"
    }
   ],
   "source": [
    "data2"
   ]
  },
  {
   "cell_type": "code",
   "execution_count": 28,
   "metadata": {},
   "outputs": [],
   "source": [
    "combine_data_frame=pd.concat([data1,data2])\n",
    "#pd.concat([df1,df2])"
   ]
  },
  {
   "cell_type": "code",
   "execution_count": 29,
   "metadata": {},
   "outputs": [
    {
     "data": {
      "text/html": [
       "<div>\n",
       "<style scoped>\n",
       "    .dataframe tbody tr th:only-of-type {\n",
       "        vertical-align: middle;\n",
       "    }\n",
       "\n",
       "    .dataframe tbody tr th {\n",
       "        vertical-align: top;\n",
       "    }\n",
       "\n",
       "    .dataframe thead th {\n",
       "        text-align: right;\n",
       "    }\n",
       "</style>\n",
       "<table border=\"1\" class=\"dataframe\">\n",
       "  <thead>\n",
       "    <tr style=\"text-align: right;\">\n",
       "      <th></th>\n",
       "      <th>iso</th>\n",
       "      <th>city_name</th>\n",
       "      <th>aqi</th>\n",
       "      <th>idx</th>\n",
       "      <th>h</th>\n",
       "      <th>no2</th>\n",
       "      <th>p</th>\n",
       "      <th>pm25</th>\n",
       "      <th>t</th>\n",
       "      <th>w</th>\n",
       "      <th>wg</th>\n",
       "      <th>s</th>\n",
       "      <th>tz</th>\n",
       "      <th>v</th>\n",
       "    </tr>\n",
       "  </thead>\n",
       "  <tbody>\n",
       "    <tr>\n",
       "      <th>0</th>\n",
       "      <td>2022-03-05T13:00:00+01:00</td>\n",
       "      <td>Mitte, Brückenstraße, Berlin, Germany</td>\n",
       "      <td>59</td>\n",
       "      <td>10039</td>\n",
       "      <td>69</td>\n",
       "      <td>3.7</td>\n",
       "      <td>1024.2</td>\n",
       "      <td>59</td>\n",
       "      <td>6.1</td>\n",
       "      <td>7</td>\n",
       "      <td>None</td>\n",
       "      <td>2022-03-05 13:00:00</td>\n",
       "      <td>+01:00</td>\n",
       "      <td>1646485200</td>\n",
       "    </tr>\n",
       "    <tr>\n",
       "      <th>0</th>\n",
       "      <td>2022-03-05T13:00:00+01:00</td>\n",
       "      <td>Mitte, Brückenstraße, Berlin, Germany</td>\n",
       "      <td>59</td>\n",
       "      <td>10039</td>\n",
       "      <td>69</td>\n",
       "      <td>3.7</td>\n",
       "      <td>1024.2</td>\n",
       "      <td>59</td>\n",
       "      <td>6.1</td>\n",
       "      <td>7</td>\n",
       "      <td>None</td>\n",
       "      <td>2022-03-05 13:00:00</td>\n",
       "      <td>+01:00</td>\n",
       "      <td>1646485200</td>\n",
       "    </tr>\n",
       "  </tbody>\n",
       "</table>\n",
       "</div>"
      ],
      "text/plain": [
       "                         iso                              city_name  aqi  \\\n",
       "0  2022-03-05T13:00:00+01:00  Mitte, Brückenstraße, Berlin, Germany   59   \n",
       "0  2022-03-05T13:00:00+01:00  Mitte, Brückenstraße, Berlin, Germany   59   \n",
       "\n",
       "     idx   h  no2       p  pm25    t  w    wg                    s      tz  \\\n",
       "0  10039  69  3.7  1024.2    59  6.1  7  None  2022-03-05 13:00:00  +01:00   \n",
       "0  10039  69  3.7  1024.2    59  6.1  7  None  2022-03-05 13:00:00  +01:00   \n",
       "\n",
       "            v  \n",
       "0  1646485200  \n",
       "0  1646485200  "
      ]
     },
     "execution_count": 29,
     "metadata": {},
     "output_type": "execute_result"
    }
   ],
   "source": [
    "combine_data_frame"
   ]
  },
  {
   "cell_type": "code",
   "execution_count": 38,
   "metadata": {},
   "outputs": [],
   "source": [
    "combine_data_frame.to_json('berlin.json',orient=\"records\")"
   ]
  },
  {
   "cell_type": "code",
   "execution_count": 40,
   "metadata": {},
   "outputs": [],
   "source": [
    "import os"
   ]
  },
  {
   "cell_type": "code",
   "execution_count": 43,
   "metadata": {},
   "outputs": [],
   "source": [
    "list_of_json_files=os.listdir('transform/')\n",
    "#with slash and without slash both are same in python. Maybe in R as well "
   ]
  },
  {
   "cell_type": "code",
   "execution_count": 44,
   "metadata": {},
   "outputs": [
    {
     "name": "stdout",
     "output_type": "stream",
     "text": [
      "['01_05_22berlin.json', '01_06_24berlin.json', '17_15_06berlin.json', '17_15_11berlin.json', '17_17_59berlin.json', '17_18_09berlin.json', '18_09_47berlin.json']\n"
     ]
    }
   ],
   "source": [
    "print(list_of_json_files)"
   ]
  },
  {
   "cell_type": "code",
   "execution_count": 68,
   "metadata": {},
   "outputs": [
    {
     "name": "stdout",
     "output_type": "stream",
     "text": [
      "01_05_22berlin.json\n",
      "01_06_24berlin.json\n",
      "17_15_06berlin.json\n",
      "17_15_11berlin.json\n",
      "17_17_59berlin.json\n",
      "17_18_09berlin.json\n",
      "18_09_47berlin.json\n"
     ]
    }
   ],
   "source": [
    "\n",
    "\n",
    "    "
   ]
  },
  {
   "cell_type": "code",
   "execution_count": 71,
   "metadata": {},
   "outputs": [],
   "source": [
    "df = pd.DataFrame() "
   ]
  },
  {
   "cell_type": "code",
   "execution_count": 75,
   "metadata": {},
   "outputs": [],
   "source": [
    "df = pd.DataFrame() \n",
    "for i in list_of_json_files:\n",
    "    #print(i)\n",
    "    with open('transform/'+i, 'r') as f:\n",
    "      data = json.load(f)\n",
    "    data1=pd.DataFrame.from_dict(data)\n",
    "    df=df.append(data1)\n",
    "\n",
    "\n",
    "df.to_json('berlin.json',orient=\"records\")"
   ]
  },
  {
   "cell_type": "code",
   "execution_count": 76,
   "metadata": {},
   "outputs": [
    {
     "data": {
      "text/html": [
       "<div>\n",
       "<style scoped>\n",
       "    .dataframe tbody tr th:only-of-type {\n",
       "        vertical-align: middle;\n",
       "    }\n",
       "\n",
       "    .dataframe tbody tr th {\n",
       "        vertical-align: top;\n",
       "    }\n",
       "\n",
       "    .dataframe thead th {\n",
       "        text-align: right;\n",
       "    }\n",
       "</style>\n",
       "<table border=\"1\" class=\"dataframe\">\n",
       "  <thead>\n",
       "    <tr style=\"text-align: right;\">\n",
       "      <th></th>\n",
       "      <th>iso</th>\n",
       "      <th>city_name</th>\n",
       "      <th>aqi</th>\n",
       "      <th>idx</th>\n",
       "      <th>h</th>\n",
       "      <th>no2</th>\n",
       "      <th>p</th>\n",
       "      <th>pm25</th>\n",
       "      <th>t</th>\n",
       "      <th>w</th>\n",
       "      <th>wg</th>\n",
       "      <th>s</th>\n",
       "      <th>tz</th>\n",
       "      <th>v</th>\n",
       "    </tr>\n",
       "  </thead>\n",
       "  <tbody>\n",
       "    <tr>\n",
       "      <th>0</th>\n",
       "      <td>2022-03-05T13:00:00+01:00</td>\n",
       "      <td>Mitte, Brückenstraße, Berlin, Germany</td>\n",
       "      <td>59</td>\n",
       "      <td>10039</td>\n",
       "      <td>69</td>\n",
       "      <td>3.7</td>\n",
       "      <td>1024.2</td>\n",
       "      <td>59</td>\n",
       "      <td>6.1</td>\n",
       "      <td>7</td>\n",
       "      <td>None</td>\n",
       "      <td>2022-03-05 13:00:00</td>\n",
       "      <td>+01:00</td>\n",
       "      <td>1646485200</td>\n",
       "    </tr>\n",
       "    <tr>\n",
       "      <th>0</th>\n",
       "      <td>2022-03-05T13:00:00+01:00</td>\n",
       "      <td>Mitte, Brückenstraße, Berlin, Germany</td>\n",
       "      <td>59</td>\n",
       "      <td>10039</td>\n",
       "      <td>69</td>\n",
       "      <td>3.7</td>\n",
       "      <td>1024.2</td>\n",
       "      <td>59</td>\n",
       "      <td>6.1</td>\n",
       "      <td>7</td>\n",
       "      <td>None</td>\n",
       "      <td>2022-03-05 13:00:00</td>\n",
       "      <td>+01:00</td>\n",
       "      <td>1646485200</td>\n",
       "    </tr>\n",
       "    <tr>\n",
       "      <th>0</th>\n",
       "      <td>2022-03-05T13:00:00+01:00</td>\n",
       "      <td>Mitte, Brückenstraße, Berlin, Germany</td>\n",
       "      <td>59</td>\n",
       "      <td>10039</td>\n",
       "      <td>69</td>\n",
       "      <td>3.7</td>\n",
       "      <td>1024.2</td>\n",
       "      <td>59</td>\n",
       "      <td>6.1</td>\n",
       "      <td>7</td>\n",
       "      <td>None</td>\n",
       "      <td>2022-03-05 13:00:00</td>\n",
       "      <td>+01:00</td>\n",
       "      <td>1646485200</td>\n",
       "    </tr>\n",
       "    <tr>\n",
       "      <th>0</th>\n",
       "      <td>2022-03-05T13:00:00+01:00</td>\n",
       "      <td>Mitte, Brückenstraße, Berlin, Germany</td>\n",
       "      <td>59</td>\n",
       "      <td>10039</td>\n",
       "      <td>69</td>\n",
       "      <td>3.7</td>\n",
       "      <td>1024.2</td>\n",
       "      <td>59</td>\n",
       "      <td>6.1</td>\n",
       "      <td>7</td>\n",
       "      <td>None</td>\n",
       "      <td>2022-03-05 13:00:00</td>\n",
       "      <td>+01:00</td>\n",
       "      <td>1646485200</td>\n",
       "    </tr>\n",
       "    <tr>\n",
       "      <th>0</th>\n",
       "      <td>2022-03-05T13:00:00+01:00</td>\n",
       "      <td>Mitte, Brückenstraße, Berlin, Germany</td>\n",
       "      <td>59</td>\n",
       "      <td>10039</td>\n",
       "      <td>69</td>\n",
       "      <td>3.7</td>\n",
       "      <td>1024.2</td>\n",
       "      <td>59</td>\n",
       "      <td>6.1</td>\n",
       "      <td>7</td>\n",
       "      <td>None</td>\n",
       "      <td>2022-03-05 13:00:00</td>\n",
       "      <td>+01:00</td>\n",
       "      <td>1646485200</td>\n",
       "    </tr>\n",
       "    <tr>\n",
       "      <th>0</th>\n",
       "      <td>2022-03-05T13:00:00+01:00</td>\n",
       "      <td>Mitte, Brückenstraße, Berlin, Germany</td>\n",
       "      <td>59</td>\n",
       "      <td>10039</td>\n",
       "      <td>69</td>\n",
       "      <td>3.7</td>\n",
       "      <td>1024.2</td>\n",
       "      <td>59</td>\n",
       "      <td>6.1</td>\n",
       "      <td>7</td>\n",
       "      <td>None</td>\n",
       "      <td>2022-03-05 13:00:00</td>\n",
       "      <td>+01:00</td>\n",
       "      <td>1646485200</td>\n",
       "    </tr>\n",
       "    <tr>\n",
       "      <th>0</th>\n",
       "      <td>2022-03-05T13:00:00+01:00</td>\n",
       "      <td>Mitte, Brückenstraße, Berlin, Germany</td>\n",
       "      <td>59</td>\n",
       "      <td>10039</td>\n",
       "      <td>69</td>\n",
       "      <td>3.7</td>\n",
       "      <td>1024.2</td>\n",
       "      <td>59</td>\n",
       "      <td>6.1</td>\n",
       "      <td>7</td>\n",
       "      <td>None</td>\n",
       "      <td>2022-03-05 13:00:00</td>\n",
       "      <td>+01:00</td>\n",
       "      <td>1646485200</td>\n",
       "    </tr>\n",
       "  </tbody>\n",
       "</table>\n",
       "</div>"
      ],
      "text/plain": [
       "                         iso                              city_name  aqi  \\\n",
       "0  2022-03-05T13:00:00+01:00  Mitte, Brückenstraße, Berlin, Germany   59   \n",
       "0  2022-03-05T13:00:00+01:00  Mitte, Brückenstraße, Berlin, Germany   59   \n",
       "0  2022-03-05T13:00:00+01:00  Mitte, Brückenstraße, Berlin, Germany   59   \n",
       "0  2022-03-05T13:00:00+01:00  Mitte, Brückenstraße, Berlin, Germany   59   \n",
       "0  2022-03-05T13:00:00+01:00  Mitte, Brückenstraße, Berlin, Germany   59   \n",
       "0  2022-03-05T13:00:00+01:00  Mitte, Brückenstraße, Berlin, Germany   59   \n",
       "0  2022-03-05T13:00:00+01:00  Mitte, Brückenstraße, Berlin, Germany   59   \n",
       "\n",
       "     idx   h  no2       p  pm25    t  w    wg                    s      tz  \\\n",
       "0  10039  69  3.7  1024.2    59  6.1  7  None  2022-03-05 13:00:00  +01:00   \n",
       "0  10039  69  3.7  1024.2    59  6.1  7  None  2022-03-05 13:00:00  +01:00   \n",
       "0  10039  69  3.7  1024.2    59  6.1  7  None  2022-03-05 13:00:00  +01:00   \n",
       "0  10039  69  3.7  1024.2    59  6.1  7  None  2022-03-05 13:00:00  +01:00   \n",
       "0  10039  69  3.7  1024.2    59  6.1  7  None  2022-03-05 13:00:00  +01:00   \n",
       "0  10039  69  3.7  1024.2    59  6.1  7  None  2022-03-05 13:00:00  +01:00   \n",
       "0  10039  69  3.7  1024.2    59  6.1  7  None  2022-03-05 13:00:00  +01:00   \n",
       "\n",
       "            v  \n",
       "0  1646485200  \n",
       "0  1646485200  \n",
       "0  1646485200  \n",
       "0  1646485200  \n",
       "0  1646485200  \n",
       "0  1646485200  \n",
       "0  1646485200  "
      ]
     },
     "execution_count": 76,
     "metadata": {},
     "output_type": "execute_result"
    }
   ],
   "source": [
    "df"
   ]
  },
  {
   "cell_type": "code",
   "execution_count": 70,
   "metadata": {},
   "outputs": [
    {
     "data": {
      "text/html": [
       "<div>\n",
       "<style scoped>\n",
       "    .dataframe tbody tr th:only-of-type {\n",
       "        vertical-align: middle;\n",
       "    }\n",
       "\n",
       "    .dataframe tbody tr th {\n",
       "        vertical-align: top;\n",
       "    }\n",
       "\n",
       "    .dataframe thead th {\n",
       "        text-align: right;\n",
       "    }\n",
       "</style>\n",
       "<table border=\"1\" class=\"dataframe\">\n",
       "  <thead>\n",
       "    <tr style=\"text-align: right;\">\n",
       "      <th></th>\n",
       "    </tr>\n",
       "  </thead>\n",
       "  <tbody>\n",
       "  </tbody>\n",
       "</table>\n",
       "</div>"
      ],
      "text/plain": [
       "Empty DataFrame\n",
       "Columns: []\n",
       "Index: []"
      ]
     },
     "execution_count": 70,
     "metadata": {},
     "output_type": "execute_result"
    }
   ],
   "source": [
    "df"
   ]
  }
 ],
 "metadata": {
  "interpreter": {
   "hash": "51ba4647bbf3d5b46d357c36aa801d9f297407b36abf0f707dfbc2fadbc9da02"
  },
  "kernelspec": {
   "display_name": "Python 3.9.5 32-bit ('env': venv)",
   "language": "python",
   "name": "python3"
  },
  "language_info": {
   "codemirror_mode": {
    "name": "ipython",
    "version": 3
   },
   "file_extension": ".py",
   "mimetype": "text/x-python",
   "name": "python",
   "nbconvert_exporter": "python",
   "pygments_lexer": "ipython3",
   "version": "3.9.5"
  },
  "orig_nbformat": 4
 },
 "nbformat": 4,
 "nbformat_minor": 2
}

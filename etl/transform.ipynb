{
 "cells": [
  {
   "cell_type": "code",
   "execution_count": 101,
   "metadata": {},
   "outputs": [],
   "source": [
    "import json"
   ]
  },
  {
   "cell_type": "markdown",
   "metadata": {},
   "source": []
  },
  {
   "cell_type": "code",
   "execution_count": 102,
   "metadata": {},
   "outputs": [],
   "source": [
    "#import json\n",
    "\n",
    "with open('berlin.json') as f:\n",
    "   data = json.load(f)\n",
    "\n"
   ]
  },
  {
   "cell_type": "code",
   "execution_count": 103,
   "metadata": {},
   "outputs": [
    {
     "data": {
      "text/plain": [
       "{'aqi': 59,\n",
       " 'idx': 10039,\n",
       " 'attributions': [{'url': 'http://www.stadtentwicklung.berlin.de/umwelt/luftqualitaet/',\n",
       "   'name': 'Berlin Air Quality - (Luftqualität in Berlin)',\n",
       "   'logo': 'Germany-Berlin.png'},\n",
       "  {'url': 'http://www.eea.europa.eu/themes/air/',\n",
       "   'name': 'European Environment Agency',\n",
       "   'logo': 'Europe-EEA.png'},\n",
       "  {'url': 'https://waqi.info/', 'name': 'World Air Quality Index Project'}],\n",
       " 'city': {'geo': [52.513606, 13.418833],\n",
       "  'name': 'Mitte, Brückenstraße, Berlin, Germany',\n",
       "  'url': 'https://aqicn.org/city/germany/berlin/mitte--bruckenstrasse'},\n",
       " 'dominentpol': 'pm25',\n",
       " 'iaqi': {'h': {'v': 69},\n",
       "  'no2': {'v': 3.7},\n",
       "  'p': {'v': 1024.2},\n",
       "  'pm10': {'v': 17},\n",
       "  'pm25': {'v': 59},\n",
       "  't': {'v': 6.1},\n",
       "  'w': {'v': 7},\n",
       "  'wg': {'v': 10}},\n",
       " 'time': {'s': '2022-03-05 13:00:00',\n",
       "  'tz': '+01:00',\n",
       "  'v': 1646485200,\n",
       "  'iso': '2022-03-05T13:00:00+01:00'},\n",
       " 'forecast': {'daily': {'o3': [{'avg': 14,\n",
       "     'day': '2022-03-03',\n",
       "     'max': 31,\n",
       "     'min': 1},\n",
       "    {'avg': 16, 'day': '2022-03-04', 'max': 28, 'min': 8},\n",
       "    {'avg': 14, 'day': '2022-03-05', 'max': 29, 'min': 7},\n",
       "    {'avg': 18, 'day': '2022-03-06', 'max': 34, 'min': 4},\n",
       "    {'avg': 19, 'day': '2022-03-07', 'max': 34, 'min': 10},\n",
       "    {'avg': 20, 'day': '2022-03-08', 'max': 35, 'min': 7},\n",
       "    {'avg': 23, 'day': '2022-03-09', 'max': 23, 'min': 22}],\n",
       "   'pm10': [{'avg': 23, 'day': '2022-03-03', 'max': 44, 'min': 10},\n",
       "    {'avg': 13, 'day': '2022-03-04', 'max': 18, 'min': 9},\n",
       "    {'avg': 17, 'day': '2022-03-05', 'max': 20, 'min': 9},\n",
       "    {'avg': 15, 'day': '2022-03-06', 'max': 20, 'min': 8},\n",
       "    {'avg': 14, 'day': '2022-03-07', 'max': 20, 'min': 6},\n",
       "    {'avg': 15, 'day': '2022-03-08', 'max': 19, 'min': 7},\n",
       "    {'avg': 12, 'day': '2022-03-09', 'max': 12, 'min': 12}],\n",
       "   'pm25': [{'avg': 64, 'day': '2022-03-03', 'max': 107, 'min': 33},\n",
       "    {'avg': 37, 'day': '2022-03-04', 'max': 53, 'min': 25},\n",
       "    {'avg': 52, 'day': '2022-03-05', 'max': 60, 'min': 30},\n",
       "    {'avg': 49, 'day': '2022-03-06', 'max': 62, 'min': 28},\n",
       "    {'avg': 45, 'day': '2022-03-07', 'max': 61, 'min': 17},\n",
       "    {'avg': 46, 'day': '2022-03-08', 'max': 57, 'min': 23},\n",
       "    {'avg': 37, 'day': '2022-03-09', 'max': 37, 'min': 36}],\n",
       "   'uvi': [{'avg': 0, 'day': '2022-03-03', 'max': 2, 'min': 0},\n",
       "    {'avg': 0, 'day': '2022-03-04', 'max': 1, 'min': 0},\n",
       "    {'avg': 0, 'day': '2022-03-05', 'max': 1, 'min': 0},\n",
       "    {'avg': 0, 'day': '2022-03-06', 'max': 1, 'min': 0},\n",
       "    {'avg': 1, 'day': '2022-03-07', 'max': 2, 'min': 0},\n",
       "    {'avg': 0, 'day': '2022-03-08', 'max': 2, 'min': 0},\n",
       "    {'avg': 1, 'day': '2022-03-09', 'max': 2, 'min': 0},\n",
       "    {'avg': 0, 'day': '2022-03-10', 'max': 0, 'min': 0}]}},\n",
       " 'debug': {'sync': '2022-03-05T22:16:24+09:00'}}"
      ]
     },
     "execution_count": 103,
     "metadata": {},
     "output_type": "execute_result"
    }
   ],
   "source": [
    "data"
   ]
  },
  {
   "cell_type": "code",
   "execution_count": 104,
   "metadata": {},
   "outputs": [
    {
     "name": "stdout",
     "output_type": "stream",
     "text": [
      "59\n",
      "10039\n",
      "Mitte, Brückenstraße, Berlin, Germany\n",
      "[52.513606, 13.418833]\n",
      "69\n",
      "3.7\n",
      "1024.2\n",
      "59\n",
      "6.1\n",
      "7\n",
      "10\n",
      "2022-03-05 13:00:00\n",
      "+01:00\n",
      "1646485200\n",
      "2022-03-05T13:00:00+01:00\n"
     ]
    }
   ],
   "source": [
    "print(data['aqi'])\n",
    "print(data['idx'])\n",
    "print(data['city']['name'])\n",
    "print(data['city']['geo'])\n",
    "print(data['iaqi']['h']['v'])\n",
    "print(data['iaqi']['no2']['v'])\n",
    "print(data['iaqi']['p']['v'])\n",
    "print(data['iaqi']['pm25']['v'])\n",
    "#print(data['iaqi'])\n",
    "print(data['iaqi']['t']['v'])\n",
    "print(data['iaqi']['w']['v'])\n",
    "print(data['iaqi']['wg']['v'])\n",
    "print(data['time']['s'])\n",
    "print(data['time']['tz'])\n",
    "print(data['time']['v'])\n",
    "print(data['time']['iso'])"
   ]
  },
  {
   "cell_type": "code",
   "execution_count": 92,
   "metadata": {},
   "outputs": [],
   "source": [
    "#new"
   ]
  },
  {
   "cell_type": "code",
   "execution_count": 105,
   "metadata": {},
   "outputs": [
    {
     "data": {
      "text/plain": [
       "10039"
      ]
     },
     "execution_count": 105,
     "metadata": {},
     "output_type": "execute_result"
    }
   ],
   "source": [
    "data['idx']"
   ]
  },
  {
   "cell_type": "code",
   "execution_count": 106,
   "metadata": {},
   "outputs": [
    {
     "name": "stdout",
     "output_type": "stream",
     "text": [
      "aqi\n",
      "59\n",
      "idx\n",
      "10039\n",
      "attributions\n",
      "[{'url': 'http://www.stadtentwicklung.berlin.de/umwelt/luftqualitaet/', 'name': 'Berlin Air Quality - (Luftqualität in Berlin)', 'logo': 'Germany-Berlin.png'}, {'url': 'http://www.eea.europa.eu/themes/air/', 'name': 'European Environment Agency', 'logo': 'Europe-EEA.png'}, {'url': 'https://waqi.info/', 'name': 'World Air Quality Index Project'}]\n",
      "city\n",
      "{'geo': [52.513606, 13.418833], 'name': 'Mitte, Brückenstraße, Berlin, Germany', 'url': 'https://aqicn.org/city/germany/berlin/mitte--bruckenstrasse'}\n",
      "dominentpol\n",
      "pm25\n",
      "iaqi\n",
      "{'h': {'v': 69}, 'no2': {'v': 3.7}, 'p': {'v': 1024.2}, 'pm10': {'v': 17}, 'pm25': {'v': 59}, 't': {'v': 6.1}, 'w': {'v': 7}, 'wg': {'v': 10}}\n",
      "time\n",
      "{'s': '2022-03-05 13:00:00', 'tz': '+01:00', 'v': 1646485200, 'iso': '2022-03-05T13:00:00+01:00'}\n",
      "forecast\n",
      "{'daily': {'o3': [{'avg': 14, 'day': '2022-03-03', 'max': 31, 'min': 1}, {'avg': 16, 'day': '2022-03-04', 'max': 28, 'min': 8}, {'avg': 14, 'day': '2022-03-05', 'max': 29, 'min': 7}, {'avg': 18, 'day': '2022-03-06', 'max': 34, 'min': 4}, {'avg': 19, 'day': '2022-03-07', 'max': 34, 'min': 10}, {'avg': 20, 'day': '2022-03-08', 'max': 35, 'min': 7}, {'avg': 23, 'day': '2022-03-09', 'max': 23, 'min': 22}], 'pm10': [{'avg': 23, 'day': '2022-03-03', 'max': 44, 'min': 10}, {'avg': 13, 'day': '2022-03-04', 'max': 18, 'min': 9}, {'avg': 17, 'day': '2022-03-05', 'max': 20, 'min': 9}, {'avg': 15, 'day': '2022-03-06', 'max': 20, 'min': 8}, {'avg': 14, 'day': '2022-03-07', 'max': 20, 'min': 6}, {'avg': 15, 'day': '2022-03-08', 'max': 19, 'min': 7}, {'avg': 12, 'day': '2022-03-09', 'max': 12, 'min': 12}], 'pm25': [{'avg': 64, 'day': '2022-03-03', 'max': 107, 'min': 33}, {'avg': 37, 'day': '2022-03-04', 'max': 53, 'min': 25}, {'avg': 52, 'day': '2022-03-05', 'max': 60, 'min': 30}, {'avg': 49, 'day': '2022-03-06', 'max': 62, 'min': 28}, {'avg': 45, 'day': '2022-03-07', 'max': 61, 'min': 17}, {'avg': 46, 'day': '2022-03-08', 'max': 57, 'min': 23}, {'avg': 37, 'day': '2022-03-09', 'max': 37, 'min': 36}], 'uvi': [{'avg': 0, 'day': '2022-03-03', 'max': 2, 'min': 0}, {'avg': 0, 'day': '2022-03-04', 'max': 1, 'min': 0}, {'avg': 0, 'day': '2022-03-05', 'max': 1, 'min': 0}, {'avg': 0, 'day': '2022-03-06', 'max': 1, 'min': 0}, {'avg': 1, 'day': '2022-03-07', 'max': 2, 'min': 0}, {'avg': 0, 'day': '2022-03-08', 'max': 2, 'min': 0}, {'avg': 1, 'day': '2022-03-09', 'max': 2, 'min': 0}, {'avg': 0, 'day': '2022-03-10', 'max': 0, 'min': 0}]}}\n",
      "debug\n",
      "{'sync': '2022-03-05T22:16:24+09:00'}\n"
     ]
    }
   ],
   "source": [
    "for i in data:\n",
    "    print(i)\n",
    "    print(data[i])"
   ]
  },
  {
   "cell_type": "code",
   "execution_count": 95,
   "metadata": {},
   "outputs": [
    {
     "name": "stdout",
     "output_type": "stream",
     "text": [
      "{0: 'Hi', 1: 'I', 2: 'am', 3: 'John'}\n"
     ]
    }
   ],
   "source": [
    "dicts = {}\n",
    "keys = range(4)\n",
    "values = [\"Hi\", \"I\", \"am\", \"John\"]\n",
    "for i in keys:\n",
    "        dicts[i] = values[i]\n",
    "print(dicts)"
   ]
  },
  {
   "cell_type": "code",
   "execution_count": 96,
   "metadata": {},
   "outputs": [
    {
     "name": "stdout",
     "output_type": "stream",
     "text": [
      "dict_keys([0, 1, 2, 3])\n",
      "dict_values(['Hi', 'I', 'am', 'John'])\n"
     ]
    }
   ],
   "source": [
    "print(dicts.keys())\n",
    "print(dicts.values())"
   ]
  },
  {
   "cell_type": "code",
   "execution_count": 97,
   "metadata": {},
   "outputs": [
    {
     "data": {
      "text/html": [
       "<div>\n",
       "<style scoped>\n",
       "    .dataframe tbody tr th:only-of-type {\n",
       "        vertical-align: middle;\n",
       "    }\n",
       "\n",
       "    .dataframe tbody tr th {\n",
       "        vertical-align: top;\n",
       "    }\n",
       "\n",
       "    .dataframe thead th {\n",
       "        text-align: right;\n",
       "    }\n",
       "</style>\n",
       "<table border=\"1\" class=\"dataframe\">\n",
       "  <thead>\n",
       "    <tr style=\"text-align: right;\">\n",
       "      <th></th>\n",
       "      <th>key</th>\n",
       "    </tr>\n",
       "  </thead>\n",
       "  <tbody>\n",
       "    <tr>\n",
       "      <th>0</th>\n",
       "      <td>0</td>\n",
       "    </tr>\n",
       "    <tr>\n",
       "      <th>1</th>\n",
       "      <td>1</td>\n",
       "    </tr>\n",
       "    <tr>\n",
       "      <th>2</th>\n",
       "      <td>2</td>\n",
       "    </tr>\n",
       "    <tr>\n",
       "      <th>3</th>\n",
       "      <td>3</td>\n",
       "    </tr>\n",
       "  </tbody>\n",
       "</table>\n",
       "</div>"
      ],
      "text/plain": [
       "   key\n",
       "0    0\n",
       "1    1\n",
       "2    2\n",
       "3    3"
      ]
     },
     "execution_count": 97,
     "metadata": {},
     "output_type": "execute_result"
    }
   ],
   "source": [
    "import pandas as pd\n",
    "#data=pd.DataFrame(dicts.keys(), columns=['key'])\n",
    "#data"
   ]
  },
  {
   "cell_type": "code",
   "execution_count": 98,
   "metadata": {},
   "outputs": [],
   "source": [
    "dicts={}"
   ]
  },
  {
   "cell_type": "code",
   "execution_count": 107,
   "metadata": {},
   "outputs": [],
   "source": [
    "\n",
    "keys=['iso','city_name','aqi','idx','h','no2','p','pm25','t','w','wg','s','tz','v']\n",
    "values=[data['time']['iso'],\n",
    "data['city']['name'],\n",
    "data['aqi'],\n",
    "data['idx'],\n",
    "\n",
    "#data['city']['geo'\n",
    "data['iaqi']['h']['v'],\n",
    "data['iaqi']['no2']['v'],\n",
    "data['iaqi']['p']['v'],\n",
    "data['iaqi']['pm25']['v'],\n",
    "#print(data['iaqi'])\n",
    "data['iaqi']['t']['v'],\n",
    "data['iaqi']['w']['v'],\n",
    "data['iaqi']['wg']['v'],\n",
    "data['time']['s'],\n",
    "data['time']['tz'],\n",
    "data['time']['v']\n",
    "]\n",
    "\n",
    "\n",
    "dictionary = dict(zip(keys, values))\n",
    "#print(dictionary)\n",
    "data=pd.DataFrame(dictionary,index=keys)\n"
   ]
  },
  {
   "cell_type": "code",
   "execution_count": null,
   "metadata": {},
   "outputs": [
    {
     "name": "stdout",
     "output_type": "stream",
     "text": [
      "<class 'pandas.core.frame.DataFrame'>\n",
      "196\n",
      "(14, 14)\n"
     ]
    }
   ],
   "source": [
    "data\n",
    "print(type(data))\n",
    "print(data.size)\n",
    "print(data.shape)"
   ]
  },
  {
   "cell_type": "code",
   "execution_count": 115,
   "metadata": {},
   "outputs": [
    {
     "name": "stdout",
     "output_type": "stream",
     "text": [
      "<class 'pandas.core.frame.DataFrame'>\n",
      "<class 'pandas.core.indexes.base.Index'>\n",
      "Index(['iso', 'city_name', 'aqi', 'idx', 'h', 'no2', 'p', 'pm25', 't', 'w',\n",
      "       'wg', 's', 'tz', 'v'],\n",
      "      dtype='object')\n",
      "                         iso                              city_name  aqi  \\\n",
      "0  2022-03-05T13:00:00+01:00  Mitte, Brückenstraße, Berlin, Germany   59   \n",
      "\n",
      "     idx   h  no2       p  pm25    t  w  wg                    s      tz  \\\n",
      "0  10039  69  3.7  1024.2    59  6.1  7  10  2022-03-05 13:00:00  +01:00   \n",
      "\n",
      "            v  \n",
      "0  1646485200  \n"
     ]
    },
    {
     "data": {
      "text/html": [
       "<div>\n",
       "<style scoped>\n",
       "    .dataframe tbody tr th:only-of-type {\n",
       "        vertical-align: middle;\n",
       "    }\n",
       "\n",
       "    .dataframe tbody tr th {\n",
       "        vertical-align: top;\n",
       "    }\n",
       "\n",
       "    .dataframe thead th {\n",
       "        text-align: right;\n",
       "    }\n",
       "</style>\n",
       "<table border=\"1\" class=\"dataframe\">\n",
       "  <thead>\n",
       "    <tr style=\"text-align: right;\">\n",
       "      <th></th>\n",
       "      <th>iso</th>\n",
       "      <th>city_name</th>\n",
       "      <th>aqi</th>\n",
       "      <th>idx</th>\n",
       "      <th>h</th>\n",
       "      <th>no2</th>\n",
       "      <th>p</th>\n",
       "      <th>pm25</th>\n",
       "      <th>t</th>\n",
       "      <th>w</th>\n",
       "      <th>wg</th>\n",
       "      <th>s</th>\n",
       "      <th>tz</th>\n",
       "      <th>v</th>\n",
       "    </tr>\n",
       "  </thead>\n",
       "  <tbody>\n",
       "    <tr>\n",
       "      <th>iso</th>\n",
       "      <td>2022-03-05T13:00:00+01:00</td>\n",
       "      <td>Mitte, Brückenstraße, Berlin, Germany</td>\n",
       "      <td>59</td>\n",
       "      <td>10039</td>\n",
       "      <td>69</td>\n",
       "      <td>3.7</td>\n",
       "      <td>1024.2</td>\n",
       "      <td>59</td>\n",
       "      <td>6.1</td>\n",
       "      <td>7</td>\n",
       "      <td>10</td>\n",
       "      <td>2022-03-05 13:00:00</td>\n",
       "      <td>+01:00</td>\n",
       "      <td>1646485200</td>\n",
       "    </tr>\n",
       "  </tbody>\n",
       "</table>\n",
       "</div>"
      ],
      "text/plain": [
       "                           iso                              city_name  aqi  \\\n",
       "iso  2022-03-05T13:00:00+01:00  Mitte, Brückenstraße, Berlin, Germany   59   \n",
       "\n",
       "       idx   h  no2       p  pm25    t  w  wg                    s      tz  \\\n",
       "iso  10039  69  3.7  1024.2    59  6.1  7  10  2022-03-05 13:00:00  +01:00   \n",
       "\n",
       "              v  \n",
       "iso  1646485200  "
      ]
     },
     "execution_count": 115,
     "metadata": {},
     "output_type": "execute_result"
    }
   ],
   "source": [
    "data=data.head(1)\n",
    "data\n",
    "print(type(data))\n",
    "print(type(data.index))\n",
    "print(data.columns)\n",
    "\n"
   ]
  },
  {
   "cell_type": "code",
   "execution_count": 116,
   "metadata": {},
   "outputs": [
    {
     "data": {
      "text/html": [
       "<div>\n",
       "<style scoped>\n",
       "    .dataframe tbody tr th:only-of-type {\n",
       "        vertical-align: middle;\n",
       "    }\n",
       "\n",
       "    .dataframe tbody tr th {\n",
       "        vertical-align: top;\n",
       "    }\n",
       "\n",
       "    .dataframe thead th {\n",
       "        text-align: right;\n",
       "    }\n",
       "</style>\n",
       "<table border=\"1\" class=\"dataframe\">\n",
       "  <thead>\n",
       "    <tr style=\"text-align: right;\">\n",
       "      <th></th>\n",
       "      <th>iso</th>\n",
       "      <th>city_name</th>\n",
       "      <th>aqi</th>\n",
       "      <th>idx</th>\n",
       "      <th>h</th>\n",
       "      <th>no2</th>\n",
       "      <th>p</th>\n",
       "      <th>pm25</th>\n",
       "      <th>t</th>\n",
       "      <th>w</th>\n",
       "      <th>wg</th>\n",
       "      <th>s</th>\n",
       "      <th>tz</th>\n",
       "      <th>v</th>\n",
       "    </tr>\n",
       "  </thead>\n",
       "  <tbody>\n",
       "    <tr>\n",
       "      <th>0</th>\n",
       "      <td>2022-03-05T13:00:00+01:00</td>\n",
       "      <td>Mitte, Brückenstraße, Berlin, Germany</td>\n",
       "      <td>59</td>\n",
       "      <td>10039</td>\n",
       "      <td>69</td>\n",
       "      <td>3.7</td>\n",
       "      <td>1024.2</td>\n",
       "      <td>59</td>\n",
       "      <td>6.1</td>\n",
       "      <td>7</td>\n",
       "      <td>10</td>\n",
       "      <td>2022-03-05 13:00:00</td>\n",
       "      <td>+01:00</td>\n",
       "      <td>1646485200</td>\n",
       "    </tr>\n",
       "  </tbody>\n",
       "</table>\n",
       "</div>"
      ],
      "text/plain": [
       "                         iso                              city_name  aqi  \\\n",
       "0  2022-03-05T13:00:00+01:00  Mitte, Brückenstraße, Berlin, Germany   59   \n",
       "\n",
       "     idx   h  no2       p  pm25    t  w  wg                    s      tz  \\\n",
       "0  10039  69  3.7  1024.2    59  6.1  7  10  2022-03-05 13:00:00  +01:00   \n",
       "\n",
       "            v  \n",
       "0  1646485200  "
      ]
     },
     "execution_count": 116,
     "metadata": {},
     "output_type": "execute_result"
    }
   ],
   "source": [
    "data=data.reset_index(drop=True)\n",
    "data"
   ]
  },
  {
   "cell_type": "code",
   "execution_count": null,
   "metadata": {},
   "outputs": [],
   "source": []
  },
  {
   "cell_type": "code",
   "execution_count": null,
   "metadata": {},
   "outputs": [
    {
     "ename": "AttributeError",
     "evalue": "'NoneType' object has no attribute 'reset_index'",
     "output_type": "error",
     "traceback": [
      "\u001b[1;31m---------------------------------------------------------------------------\u001b[0m",
      "\u001b[1;31mAttributeError\u001b[0m                            Traceback (most recent call last)",
      "\u001b[1;32m~\\AppData\\Local\\Temp/ipykernel_15656/1058432022.py\u001b[0m in \u001b[0;36m<module>\u001b[1;34m\u001b[0m\n\u001b[1;32m----> 1\u001b[1;33m \u001b[0mdata\u001b[0m\u001b[1;33m.\u001b[0m\u001b[0mreset_index\u001b[0m\u001b[1;33m(\u001b[0m\u001b[0mdrop\u001b[0m\u001b[1;33m=\u001b[0m\u001b[1;32mTrue\u001b[0m\u001b[1;33m,\u001b[0m\u001b[0minplace\u001b[0m\u001b[1;33m=\u001b[0m\u001b[1;32mTrue\u001b[0m\u001b[1;33m)\u001b[0m\u001b[1;33m\u001b[0m\u001b[1;33m\u001b[0m\u001b[0m\n\u001b[0m",
      "\u001b[1;31mAttributeError\u001b[0m: 'NoneType' object has no attribute 'reset_index'"
     ]
    }
   ],
   "source": [
    "#data.reset_index(drop=True,inplace=True)\n"
   ]
  },
  {
   "cell_type": "code",
   "execution_count": null,
   "metadata": {},
   "outputs": [
    {
     "data": {
      "text/plain": [
       "NoneType"
      ]
     },
     "execution_count": 73,
     "metadata": {},
     "output_type": "execute_result"
    }
   ],
   "source": [
    "type(data)"
   ]
  },
  {
   "cell_type": "code",
   "execution_count": null,
   "metadata": {},
   "outputs": [
    {
     "data": {
      "text/plain": [
       "iso                      2022-03-05T13:00:00+01:00\n",
       "city_name    Mitte, Brückenstraße, Berlin, Germany\n",
       "aqi                                             59\n",
       "idx                                          10039\n",
       "h                                               69\n",
       "no2                                            3.7\n",
       "p                                           1024.2\n",
       "pm25                                            59\n",
       "t                                              6.1\n",
       "w                                                7\n",
       "wg                                              10\n",
       "s                              2022-03-05 13:00:00\n",
       "tz                                          +01:00\n",
       "v                                       1646485200\n",
       "Name: iso, dtype: object"
      ]
     },
     "execution_count": 59,
     "metadata": {},
     "output_type": "execute_result"
    }
   ],
   "source": [
    "data.iloc[0]"
   ]
  },
  {
   "cell_type": "code",
   "execution_count": null,
   "metadata": {},
   "outputs": [
    {
     "data": {
      "text/plain": [
       "{'iso': '2022-03-05T13:00:00+01:00',\n",
       " 'city_name': 'Mitte, Brückenstraße, Berlin, Germany',\n",
       " 'aqi': 59,\n",
       " 'idx': 10039,\n",
       " 'cty_geo': [52.513606, 13.418833],\n",
       " 'h': 69,\n",
       " 'no2': 3.7,\n",
       " 'p': 1024.2,\n",
       " 'pm25': 59,\n",
       " 't': 6.1,\n",
       " 'w': 7,\n",
       " 'wg': 10,\n",
       " 's': '2022-03-05 13:00:00',\n",
       " 'tz': '+01:00',\n",
       " 'v': 1646485200}"
      ]
     },
     "execution_count": 52,
     "metadata": {},
     "output_type": "execute_result"
    }
   ],
   "source": [
    "dictionary"
   ]
  },
  {
   "cell_type": "code",
   "execution_count": null,
   "metadata": {},
   "outputs": [],
   "source": []
  },
  {
   "cell_type": "code",
   "execution_count": null,
   "metadata": {},
   "outputs": [
    {
     "name": "stdout",
     "output_type": "stream",
     "text": [
      "{'a': 1, 'b': 2, 'c': 3}\n"
     ]
    },
    {
     "data": {
      "text/html": [
       "<div>\n",
       "<style scoped>\n",
       "    .dataframe tbody tr th:only-of-type {\n",
       "        vertical-align: middle;\n",
       "    }\n",
       "\n",
       "    .dataframe tbody tr th {\n",
       "        vertical-align: top;\n",
       "    }\n",
       "\n",
       "    .dataframe thead th {\n",
       "        text-align: right;\n",
       "    }\n",
       "</style>\n",
       "<table border=\"1\" class=\"dataframe\">\n",
       "  <thead>\n",
       "    <tr style=\"text-align: right;\">\n",
       "      <th></th>\n",
       "      <th>a</th>\n",
       "      <th>b</th>\n",
       "      <th>c</th>\n",
       "    </tr>\n",
       "  </thead>\n",
       "  <tbody>\n",
       "    <tr>\n",
       "      <th>a</th>\n",
       "      <td>1</td>\n",
       "      <td>2</td>\n",
       "      <td>3</td>\n",
       "    </tr>\n",
       "    <tr>\n",
       "      <th>b</th>\n",
       "      <td>1</td>\n",
       "      <td>2</td>\n",
       "      <td>3</td>\n",
       "    </tr>\n",
       "    <tr>\n",
       "      <th>c</th>\n",
       "      <td>1</td>\n",
       "      <td>2</td>\n",
       "      <td>3</td>\n",
       "    </tr>\n",
       "  </tbody>\n",
       "</table>\n",
       "</div>"
      ],
      "text/plain": [
       "   a  b  c\n",
       "a  1  2  3\n",
       "b  1  2  3\n",
       "c  1  2  3"
      ]
     },
     "execution_count": 50,
     "metadata": {},
     "output_type": "execute_result"
    }
   ],
   "source": [
    "keys = ['a', 'b', 'c']\n",
    "values = [1, 2, 3]\n",
    "dictionary = dict(zip(keys, values))\n",
    "print(dictionary)\n",
    "pd.DataFrame(dictionary,index=keys)"
   ]
  },
  {
   "cell_type": "code",
   "execution_count": null,
   "metadata": {},
   "outputs": [],
   "source": []
  },
  {
   "cell_type": "code",
   "execution_count": null,
   "metadata": {},
   "outputs": [],
   "source": []
  },
  {
   "cell_type": "code",
   "execution_count": null,
   "metadata": {},
   "outputs": [
    {
     "data": {
      "text/plain": [
       "[59,\n",
       " 10039,\n",
       " 'Mitte, Brückenstraße, Berlin, Germany',\n",
       " [52.513606, 13.418833],\n",
       " 69,\n",
       " 3.7,\n",
       " 1024.2,\n",
       " 59,\n",
       " 6.1,\n",
       " 7,\n",
       " 10,\n",
       " '2022-03-05 13:00:00',\n",
       " '+01:00',\n",
       " 1646485200,\n",
       " '2022-03-05T13:00:00+01:00']"
      ]
     },
     "execution_count": 34,
     "metadata": {},
     "output_type": "execute_result"
    }
   ],
   "source": []
  }
 ],
 "metadata": {
  "interpreter": {
   "hash": "51ba4647bbf3d5b46d357c36aa801d9f297407b36abf0f707dfbc2fadbc9da02"
  },
  "kernelspec": {
   "display_name": "Python 3.9.5 32-bit ('env': venv)",
   "language": "python",
   "name": "python3"
  },
  "language_info": {
   "codemirror_mode": {
    "name": "ipython",
    "version": 3
   },
   "file_extension": ".py",
   "mimetype": "text/x-python",
   "name": "python",
   "nbconvert_exporter": "python",
   "pygments_lexer": "ipython3",
   "version": "3.9.5"
  },
  "orig_nbformat": 4
 },
 "nbformat": 4,
 "nbformat_minor": 2
}
